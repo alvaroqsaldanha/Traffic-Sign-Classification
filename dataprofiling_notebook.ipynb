{
 "cells": [
  {
   "cell_type": "markdown",
   "id": "2de7a70e",
   "metadata": {},
   "source": [
    "DATA PROFILING "
   ]
  },
  {
   "cell_type": "markdown",
   "id": "7f68b4e8",
   "metadata": {},
   "source": [
    "Loading Data:"
   ]
  },
  {
   "cell_type": "code",
   "execution_count": 5,
   "id": "db4c9291",
   "metadata": {},
   "outputs": [
    {
     "name": "stdout",
     "output_type": "stream",
     "text": [
      "Loading images for class 0...\n"
     ]
    },
    {
     "name": "stderr",
     "output_type": "stream",
     "text": [
      "100%|\u001b[32m██████████████████████████████████████████████████████████████████████████████████████████████████████████████████\u001b[0m| 210/210 [00:00<00:00, 1472.18it/s]\u001b[0m\n"
     ]
    },
    {
     "name": "stdout",
     "output_type": "stream",
     "text": [
      "Loading images for class 1...\n"
     ]
    },
    {
     "name": "stderr",
     "output_type": "stream",
     "text": [
      "100%|\u001b[32m████████████████████████████████████████████████████████████████████████████████████████████████████████████████\u001b[0m| 2220/2220 [00:01<00:00, 2159.01it/s]\u001b[0m\n"
     ]
    },
    {
     "name": "stdout",
     "output_type": "stream",
     "text": [
      "Loading images for class 2...\n"
     ]
    },
    {
     "name": "stderr",
     "output_type": "stream",
     "text": [
      "100%|\u001b[32m████████████████████████████████████████████████████████████████████████████████████████████████████████████████\u001b[0m| 2250/2250 [00:00<00:00, 2345.04it/s]\u001b[0m\n"
     ]
    },
    {
     "name": "stdout",
     "output_type": "stream",
     "text": [
      "Loading images for class 3...\n"
     ]
    },
    {
     "name": "stderr",
     "output_type": "stream",
     "text": [
      "100%|\u001b[32m████████████████████████████████████████████████████████████████████████████████████████████████████████████████\u001b[0m| 1410/1410 [00:00<00:00, 2463.01it/s]\u001b[0m\n"
     ]
    },
    {
     "name": "stdout",
     "output_type": "stream",
     "text": [
      "Loading images for class 4...\n"
     ]
    },
    {
     "name": "stderr",
     "output_type": "stream",
     "text": [
      "100%|\u001b[32m████████████████████████████████████████████████████████████████████████████████████████████████████████████████\u001b[0m| 1980/1980 [00:00<00:00, 2497.23it/s]\u001b[0m\n"
     ]
    },
    {
     "name": "stdout",
     "output_type": "stream",
     "text": [
      "Loading images for class 5...\n"
     ]
    },
    {
     "name": "stderr",
     "output_type": "stream",
     "text": [
      "100%|\u001b[32m████████████████████████████████████████████████████████████████████████████████████████████████████████████████\u001b[0m| 1860/1860 [00:00<00:00, 2637.93it/s]\u001b[0m\n"
     ]
    },
    {
     "name": "stdout",
     "output_type": "stream",
     "text": [
      "Loading images for class 6...\n"
     ]
    },
    {
     "name": "stderr",
     "output_type": "stream",
     "text": [
      "100%|\u001b[32m██████████████████████████████████████████████████████████████████████████████████████████████████████████████████\u001b[0m| 420/420 [00:00<00:00, 2552.29it/s]\u001b[0m\n"
     ]
    },
    {
     "name": "stdout",
     "output_type": "stream",
     "text": [
      "Loading images for class 7...\n"
     ]
    },
    {
     "name": "stderr",
     "output_type": "stream",
     "text": [
      "100%|\u001b[32m████████████████████████████████████████████████████████████████████████████████████████████████████████████████\u001b[0m| 1440/1440 [00:00<00:00, 2582.72it/s]\u001b[0m\n"
     ]
    },
    {
     "name": "stdout",
     "output_type": "stream",
     "text": [
      "Loading images for class 8...\n"
     ]
    },
    {
     "name": "stderr",
     "output_type": "stream",
     "text": [
      "100%|\u001b[32m████████████████████████████████████████████████████████████████████████████████████████████████████████████████\u001b[0m| 1410/1410 [00:00<00:00, 2613.12it/s]\u001b[0m\n"
     ]
    },
    {
     "name": "stdout",
     "output_type": "stream",
     "text": [
      "Loading images for class 9...\n"
     ]
    },
    {
     "name": "stderr",
     "output_type": "stream",
     "text": [
      "100%|\u001b[32m████████████████████████████████████████████████████████████████████████████████████████████████████████████████\u001b[0m| 1470/1470 [00:00<00:00, 2440.28it/s]\u001b[0m\n"
     ]
    },
    {
     "name": "stdout",
     "output_type": "stream",
     "text": [
      "Loading images for class 10...\n"
     ]
    },
    {
     "name": "stderr",
     "output_type": "stream",
     "text": [
      "100%|\u001b[32m████████████████████████████████████████████████████████████████████████████████████████████████████████████████\u001b[0m| 2010/2010 [00:00<00:00, 2617.41it/s]\u001b[0m\n"
     ]
    },
    {
     "name": "stdout",
     "output_type": "stream",
     "text": [
      "Loading images for class 11...\n"
     ]
    },
    {
     "name": "stderr",
     "output_type": "stream",
     "text": [
      "100%|\u001b[32m████████████████████████████████████████████████████████████████████████████████████████████████████████████████\u001b[0m| 1320/1320 [00:00<00:00, 1926.54it/s]\u001b[0m\n"
     ]
    },
    {
     "name": "stdout",
     "output_type": "stream",
     "text": [
      "Loading images for class 12...\n"
     ]
    },
    {
     "name": "stderr",
     "output_type": "stream",
     "text": [
      "100%|\u001b[32m████████████████████████████████████████████████████████████████████████████████████████████████████████████████\u001b[0m| 2100/2100 [00:00<00:00, 2191.05it/s]\u001b[0m\n"
     ]
    },
    {
     "name": "stdout",
     "output_type": "stream",
     "text": [
      "Loading images for class 13...\n"
     ]
    },
    {
     "name": "stderr",
     "output_type": "stream",
     "text": [
      "100%|\u001b[32m████████████████████████████████████████████████████████████████████████████████████████████████████████████████\u001b[0m| 2160/2160 [00:01<00:00, 2066.59it/s]\u001b[0m\n"
     ]
    },
    {
     "name": "stdout",
     "output_type": "stream",
     "text": [
      "Loading images for class 14...\n"
     ]
    },
    {
     "name": "stderr",
     "output_type": "stream",
     "text": [
      "100%|\u001b[32m██████████████████████████████████████████████████████████████████████████████████████████████████████████████████\u001b[0m| 780/780 [00:00<00:00, 1765.43it/s]\u001b[0m\n"
     ]
    },
    {
     "name": "stdout",
     "output_type": "stream",
     "text": [
      "Loading images for class 15...\n"
     ]
    },
    {
     "name": "stderr",
     "output_type": "stream",
     "text": [
      "100%|\u001b[32m██████████████████████████████████████████████████████████████████████████████████████████████████████████████████\u001b[0m| 630/630 [00:00<00:00, 2401.48it/s]\u001b[0m\n"
     ]
    },
    {
     "name": "stdout",
     "output_type": "stream",
     "text": [
      "Loading images for class 16...\n"
     ]
    },
    {
     "name": "stderr",
     "output_type": "stream",
     "text": [
      "100%|\u001b[32m██████████████████████████████████████████████████████████████████████████████████████████████████████████████████\u001b[0m| 420/420 [00:00<00:00, 2116.20it/s]\u001b[0m\n"
     ]
    },
    {
     "name": "stdout",
     "output_type": "stream",
     "text": [
      "Loading images for class 17...\n"
     ]
    },
    {
     "name": "stderr",
     "output_type": "stream",
     "text": [
      "100%|\u001b[32m████████████████████████████████████████████████████████████████████████████████████████████████████████████████\u001b[0m| 1110/1110 [00:00<00:00, 2810.54it/s]\u001b[0m\n"
     ]
    },
    {
     "name": "stdout",
     "output_type": "stream",
     "text": [
      "Loading images for class 18...\n"
     ]
    },
    {
     "name": "stderr",
     "output_type": "stream",
     "text": [
      "100%|\u001b[32m████████████████████████████████████████████████████████████████████████████████████████████████████████████████\u001b[0m| 1200/1200 [00:00<00:00, 1956.44it/s]\u001b[0m\n"
     ]
    },
    {
     "name": "stdout",
     "output_type": "stream",
     "text": [
      "Loading images for class 19...\n"
     ]
    },
    {
     "name": "stderr",
     "output_type": "stream",
     "text": [
      "100%|\u001b[32m██████████████████████████████████████████████████████████████████████████████████████████████████████████████████\u001b[0m| 210/210 [00:00<00:00, 1831.01it/s]\u001b[0m\n"
     ]
    },
    {
     "name": "stdout",
     "output_type": "stream",
     "text": [
      "Loading images for class 20...\n"
     ]
    },
    {
     "name": "stderr",
     "output_type": "stream",
     "text": [
      "100%|\u001b[32m██████████████████████████████████████████████████████████████████████████████████████████████████████████████████\u001b[0m| 360/360 [00:00<00:00, 2148.22it/s]\u001b[0m\n"
     ]
    },
    {
     "name": "stdout",
     "output_type": "stream",
     "text": [
      "Loading images for class 21...\n"
     ]
    },
    {
     "name": "stderr",
     "output_type": "stream",
     "text": [
      "100%|\u001b[32m██████████████████████████████████████████████████████████████████████████████████████████████████████████████████\u001b[0m| 330/330 [00:00<00:00, 1517.81it/s]\u001b[0m\n"
     ]
    },
    {
     "name": "stdout",
     "output_type": "stream",
     "text": [
      "Loading images for class 22...\n"
     ]
    },
    {
     "name": "stderr",
     "output_type": "stream",
     "text": [
      "100%|\u001b[32m██████████████████████████████████████████████████████████████████████████████████████████████████████████████████\u001b[0m| 390/390 [00:00<00:00, 1827.31it/s]\u001b[0m\n"
     ]
    },
    {
     "name": "stdout",
     "output_type": "stream",
     "text": [
      "Loading images for class 23...\n"
     ]
    },
    {
     "name": "stderr",
     "output_type": "stream",
     "text": [
      "100%|\u001b[32m██████████████████████████████████████████████████████████████████████████████████████████████████████████████████\u001b[0m| 510/510 [00:00<00:00, 1757.26it/s]\u001b[0m\n"
     ]
    },
    {
     "name": "stdout",
     "output_type": "stream",
     "text": [
      "Loading images for class 24...\n"
     ]
    },
    {
     "name": "stderr",
     "output_type": "stream",
     "text": [
      "100%|\u001b[32m██████████████████████████████████████████████████████████████████████████████████████████████████████████████████\u001b[0m| 270/270 [00:00<00:00, 1804.86it/s]\u001b[0m\n"
     ]
    },
    {
     "name": "stdout",
     "output_type": "stream",
     "text": [
      "Loading images for class 25...\n"
     ]
    },
    {
     "name": "stderr",
     "output_type": "stream",
     "text": [
      "100%|\u001b[32m████████████████████████████████████████████████████████████████████████████████████████████████████████████████\u001b[0m| 1500/1500 [00:00<00:00, 1707.17it/s]\u001b[0m\n"
     ]
    },
    {
     "name": "stdout",
     "output_type": "stream",
     "text": [
      "Loading images for class 26...\n"
     ]
    },
    {
     "name": "stderr",
     "output_type": "stream",
     "text": [
      "100%|\u001b[32m██████████████████████████████████████████████████████████████████████████████████████████████████████████████████\u001b[0m| 600/600 [00:00<00:00, 2228.16it/s]\u001b[0m\n"
     ]
    },
    {
     "name": "stdout",
     "output_type": "stream",
     "text": [
      "Loading images for class 27...\n"
     ]
    },
    {
     "name": "stderr",
     "output_type": "stream",
     "text": [
      "100%|\u001b[32m██████████████████████████████████████████████████████████████████████████████████████████████████████████████████\u001b[0m| 240/240 [00:00<00:00, 2004.84it/s]\u001b[0m\n"
     ]
    },
    {
     "name": "stdout",
     "output_type": "stream",
     "text": [
      "Loading images for class 28...\n"
     ]
    },
    {
     "name": "stderr",
     "output_type": "stream",
     "text": [
      "100%|\u001b[32m██████████████████████████████████████████████████████████████████████████████████████████████████████████████████\u001b[0m| 540/540 [00:00<00:00, 2210.01it/s]\u001b[0m\n"
     ]
    },
    {
     "name": "stdout",
     "output_type": "stream",
     "text": [
      "Loading images for class 29...\n"
     ]
    },
    {
     "name": "stderr",
     "output_type": "stream",
     "text": [
      "100%|\u001b[32m██████████████████████████████████████████████████████████████████████████████████████████████████████████████████\u001b[0m| 270/270 [00:00<00:00, 1906.36it/s]\u001b[0m\n"
     ]
    },
    {
     "name": "stdout",
     "output_type": "stream",
     "text": [
      "Loading images for class 30...\n"
     ]
    },
    {
     "name": "stderr",
     "output_type": "stream",
     "text": [
      "100%|\u001b[32m██████████████████████████████████████████████████████████████████████████████████████████████████████████████████\u001b[0m| 450/450 [00:00<00:00, 2233.71it/s]\u001b[0m\n"
     ]
    },
    {
     "name": "stdout",
     "output_type": "stream",
     "text": [
      "Loading images for class 31...\n"
     ]
    },
    {
     "name": "stderr",
     "output_type": "stream",
     "text": [
      "100%|\u001b[32m██████████████████████████████████████████████████████████████████████████████████████████████████████████████████\u001b[0m| 780/780 [00:00<00:00, 2348.60it/s]\u001b[0m\n"
     ]
    },
    {
     "name": "stdout",
     "output_type": "stream",
     "text": [
      "Loading images for class 32...\n"
     ]
    },
    {
     "name": "stderr",
     "output_type": "stream",
     "text": [
      "100%|\u001b[32m██████████████████████████████████████████████████████████████████████████████████████████████████████████████████\u001b[0m| 240/240 [00:00<00:00, 2702.54it/s]\u001b[0m\n"
     ]
    },
    {
     "name": "stdout",
     "output_type": "stream",
     "text": [
      "Loading images for class 33...\n"
     ]
    },
    {
     "name": "stderr",
     "output_type": "stream",
     "text": [
      "100%|\u001b[32m██████████████████████████████████████████████████████████████████████████████████████████████████████████████████\u001b[0m| 689/689 [00:00<00:00, 2279.98it/s]\u001b[0m\n"
     ]
    },
    {
     "name": "stdout",
     "output_type": "stream",
     "text": [
      "Loading images for class 34...\n"
     ]
    },
    {
     "name": "stderr",
     "output_type": "stream",
     "text": [
      "100%|\u001b[32m██████████████████████████████████████████████████████████████████████████████████████████████████████████████████\u001b[0m| 420/420 [00:00<00:00, 2434.10it/s]\u001b[0m\n"
     ]
    },
    {
     "name": "stdout",
     "output_type": "stream",
     "text": [
      "Loading images for class 35...\n"
     ]
    },
    {
     "name": "stderr",
     "output_type": "stream",
     "text": [
      "100%|\u001b[32m████████████████████████████████████████████████████████████████████████████████████████████████████████████████\u001b[0m| 1200/1200 [00:00<00:00, 2296.20it/s]\u001b[0m\n"
     ]
    },
    {
     "name": "stdout",
     "output_type": "stream",
     "text": [
      "Loading images for class 36...\n"
     ]
    },
    {
     "name": "stderr",
     "output_type": "stream",
     "text": [
      "100%|\u001b[32m██████████████████████████████████████████████████████████████████████████████████████████████████████████████████\u001b[0m| 390/390 [00:00<00:00, 1995.13it/s]\u001b[0m\n"
     ]
    },
    {
     "name": "stdout",
     "output_type": "stream",
     "text": [
      "Loading images for class 37...\n"
     ]
    },
    {
     "name": "stderr",
     "output_type": "stream",
     "text": [
      "100%|\u001b[32m██████████████████████████████████████████████████████████████████████████████████████████████████████████████████\u001b[0m| 210/210 [00:00<00:00, 1986.41it/s]\u001b[0m\n"
     ]
    },
    {
     "name": "stdout",
     "output_type": "stream",
     "text": [
      "Loading images for class 38...\n"
     ]
    },
    {
     "name": "stderr",
     "output_type": "stream",
     "text": [
      "100%|\u001b[32m████████████████████████████████████████████████████████████████████████████████████████████████████████████████\u001b[0m| 2070/2070 [00:00<00:00, 2402.17it/s]\u001b[0m\n"
     ]
    },
    {
     "name": "stdout",
     "output_type": "stream",
     "text": [
      "Loading images for class 39...\n"
     ]
    },
    {
     "name": "stderr",
     "output_type": "stream",
     "text": [
      "100%|\u001b[32m██████████████████████████████████████████████████████████████████████████████████████████████████████████████████\u001b[0m| 300/300 [00:00<00:00, 1845.41it/s]\u001b[0m\n"
     ]
    },
    {
     "name": "stdout",
     "output_type": "stream",
     "text": [
      "Loading images for class 40...\n"
     ]
    },
    {
     "name": "stderr",
     "output_type": "stream",
     "text": [
      "100%|\u001b[32m██████████████████████████████████████████████████████████████████████████████████████████████████████████████████\u001b[0m| 360/360 [00:00<00:00, 1576.33it/s]\u001b[0m\n"
     ]
    },
    {
     "name": "stdout",
     "output_type": "stream",
     "text": [
      "Loading images for class 41...\n"
     ]
    },
    {
     "name": "stderr",
     "output_type": "stream",
     "text": [
      "100%|\u001b[32m██████████████████████████████████████████████████████████████████████████████████████████████████████████████████\u001b[0m| 240/240 [00:00<00:00, 2336.39it/s]\u001b[0m\n"
     ]
    },
    {
     "name": "stdout",
     "output_type": "stream",
     "text": [
      "Loading images for class 42...\n"
     ]
    },
    {
     "name": "stderr",
     "output_type": "stream",
     "text": [
      "100%|\u001b[32m██████████████████████████████████████████████████████████████████████████████████████████████████████████████████\u001b[0m| 240/240 [00:00<00:00, 2506.62it/s]\u001b[0m\n"
     ]
    },
    {
     "name": "stdout",
     "output_type": "stream",
     "text": [
      "Loading images for test set...\n"
     ]
    },
    {
     "name": "stderr",
     "output_type": "stream",
     "text": [
      "100%|\u001b[34m██████████████████████████████████████████████████████████████████████████████████████████████████████████████\u001b[0m| 12631/12631 [00:05<00:00, 2272.92it/s]\u001b[0m\n"
     ]
    },
    {
     "name": "stdout",
     "output_type": "stream",
     "text": [
      "Couldn't load file: GT-final_test.csv.\n"
     ]
    }
   ],
   "source": [
    "import numpy as np\n",
    "import pandas as pd\n",
    "import matplotlib.pyplot as plt\n",
    "from PIL import Image\n",
    "from tqdm import tqdm\n",
    "import os\n",
    "import codecs, json\n",
    "\n",
    "IMAGE_SIZE = 32\n",
    "\n",
    "train_path = os.getcwd() + os.sep + 'data' + os.sep + 'train' + os.sep\n",
    "test_path = os.getcwd() + os.sep + 'data' + os.sep + 'test' + os.sep\n",
    "num_classes = 43\n",
    "train_data = []\n",
    "train_labels = []\n",
    "test_data = []\n",
    "\n",
    "label_json = codecs.open(\"label_names.json\", 'r', encoding='utf-8').read()\n",
    "label_names = json.loads(label_json)\n",
    "\n",
    "# Loading Training Data\n",
    "for i in range(num_classes):\n",
    "    img_path = train_path + str(i)\n",
    "    images = os.listdir(img_path)\n",
    "    print(f\"Loading images for class {i}...\")\n",
    "    for image in tqdm(images, colour='green'): \n",
    "        img = Image.open(img_path + '/' + image)\n",
    "        img = img.resize((IMAGE_SIZE,IMAGE_SIZE))\n",
    "        img = np.array(img)\n",
    "        train_data.append(img)\n",
    "        train_labels.append(i)\n",
    "\n",
    "# Loading Test Data\n",
    "images = os.listdir(test_path)\n",
    "print(\"Loading images for test set...\")\n",
    "for image in tqdm(images, colour='blue'):\n",
    "    try: \n",
    "        img = Image.open(test_path + '/' + image)\n",
    "        img = img.resize((32,32))\n",
    "        img = np.array(img)\n",
    "        test_data.append(img)\n",
    "    except:\n",
    "        print(f\"Couldn't load file: {image}.\")\n",
    "\n",
    "train_data = np.array(train_data)\n",
    "train_labels = np.array(train_labels)\n",
    "test_data = np.array(test_data)"
   ]
  },
  {
   "cell_type": "code",
   "execution_count": null,
   "id": "64f5f139",
   "metadata": {},
   "outputs": [],
   "source": [
    "Data Statistics:"
   ]
  },
  {
   "cell_type": "code",
   "execution_count": 6,
   "id": "4bbe0943",
   "metadata": {},
   "outputs": [
    {
     "name": "stdout",
     "output_type": "stream",
     "text": [
      "\n",
      "Shape of training data:  (39209, 32, 32, 3)\n",
      "Shape of test data:  (12630, 32, 32, 3)\n",
      "Number of classes: 43\n",
      "Images resized to 32 x 32\n"
     ]
    }
   ],
   "source": [
    "print(\"\\nShape of training data: \", train_data.shape)\n",
    "print(\"Shape of test data: \", test_data.shape)\n",
    "print(f\"Number of classes: {num_classes}\")\n",
    "print(f\"Images resized to {IMAGE_SIZE} x {IMAGE_SIZE}\")"
   ]
  },
  {
   "cell_type": "code",
   "execution_count": 11,
   "id": "ac52fdd5",
   "metadata": {},
   "outputs": [
    {
     "data": {
      "image/png": "[encoded data removed]",
      "text/plain": [
       "<Figure size 1500x1500 with 9 Axes>"
      ]
     },
     "metadata": {},
     "output_type": "display_data"
    }
   ],
   "source": [
    "%matplotlib inline\n",
    "import random\n",
    "\n",
    "plot_size = 3\n",
    "random_idxs = [random.randint(0, train_data.shape[0]) for i in range(plot_size**2)]\n",
    "fig = plt.figure(figsize=(15, 15))\n",
    "for i, index in enumerate(random_idxs):\n",
    "    a=fig.add_subplot(plot_size,plot_size, i+1)\n",
    "    imgplot = plt.imshow(train_data[index])\n",
    "    a.set_title(label_names[str(train_labels[index]+1)])\n",
    "plt.show()"
   ]
  },
  {
   "cell_type": "code",
   "execution_count": null,
   "id": "f77acc6d",
   "metadata": {},
   "outputs": [],
   "source": []
  }
 ],
 "metadata": {
  "kernelspec": {
   "display_name": "Python 3 (ipykernel)",
   "language": "python",
   "name": "python3"
  },
  "language_info": {
   "codemirror_mode": {
    "name": "ipython",
    "version": 3
   },
   "file_extension": ".py",
   "mimetype": "text/x-python",
   "name": "python",
   "nbconvert_exporter": "python",
   "pygments_lexer": "ipython3",
   "version": "3.10.7"
  }
 },
 "nbformat": 4,
 "nbformat_minor": 5
}
